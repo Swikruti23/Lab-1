{
  "nbformat": 4,
  "nbformat_minor": 0,
  "metadata": {
    "colab": {
      "provenance": [],
      "authorship_tag": "ABX9TyNON860dns41ROwRIsTK85M",
      "include_colab_link": true
    },
    "kernelspec": {
      "name": "python3",
      "display_name": "Python 3"
    },
    "language_info": {
      "name": "python"
    }
  },
  "cells": [
    {
      "cell_type": "markdown",
      "metadata": {
        "id": "view-in-github",
        "colab_type": "text"
      },
      "source": [
        "<a href=\"https://colab.research.google.com/github/Swikruti23/Lab-1/blob/main/Swikruti_Lab_1.ipynb\" target=\"_parent\"><img src=\"https://colab.research.google.com/assets/colab-badge.svg\" alt=\"Open In Colab\"/></a>"
      ]
    },
    {
      "cell_type": "code",
      "execution_count": 1,
      "metadata": {
        "colab": {
          "base_uri": "https://localhost:8080/"
        },
        "id": "NwnMfR0Q37Bj",
        "outputId": "c6a26af6-c436-48ef-a829-1d1f4a9d606e"
      },
      "outputs": [
        {
          "output_type": "stream",
          "name": "stdout",
          "text": [
            "['Hello', 'World']\n",
            "Hello-World\n",
            "Hello, World\n",
            "Hello, Python\n",
            "7\n"
          ]
        }
      ],
      "source": [
        "my_string = \"Hello, World\"\n",
        "\n",
        "# split() - Split a string into a list of substrings\n",
        "words = my_string.split(\", \")\n",
        "print(words) # Output: ['Hello', 'World']\n",
        "\n",
        "# join() - Join a list of strings into a single string\n",
        "joined_string = \"-\".join(words)\n",
        "print(joined_string) # Output: 'Hello-World'\n",
        "\n",
        "# strip() - Remove leading and trailing whitespace\n",
        "trimmed_string = my_string.strip()\n",
        "print(trimmed_string) # Output: 'Hello, World'\n",
        "\n",
        "# replace() - Replace a substring with another string\n",
        "new_string = my_string.replace(\"World\", \"Python\")\n",
        "print(new_string) # Output: 'Hello, Python'\n",
        "\n",
        "# find() - Find the index of a substring\n",
        "index = my_string.find(\"World\")\n",
        "print(index) # Output: 7\n"
      ]
    },
    {
      "cell_type": "code",
      "source": [
        "my_list = [1, 2, 3]\n",
        "\n",
        "# append() - Add an element to the end of the list\n",
        "my_list.append(4)\n",
        "print(my_list) # Output: [1, 2, 3, 4]\n",
        "\n",
        "# remove() - Remove the first occurrence of a value\n",
        "my_list.remove(2)\n",
        "print(my_list) # Output: [1, 3, 4]\n",
        "\n",
        "# pop() - Remove and return an element by index\n",
        "popped_value = my_list.pop(0)\n",
        "print(popped_value) # Output: 1\n",
        "\n",
        "# sort() - Sort the list\n",
        "my_list.sort()\n",
        "print(my_list) # Output: [3, 4]\n",
        "\n",
        "# extend() - Append elements from another list\n",
        "other_list = [5, 6]\n",
        "my_list.extend(other_list)\n",
        "print(my_list) # Output: [3, 4, 5, 6]"
      ],
      "metadata": {
        "colab": {
          "base_uri": "https://localhost:8080/"
        },
        "id": "ZkNzoZhu4jeX",
        "outputId": "51159cd2-6cc5-401c-c99e-c3f25dbc6de7"
      },
      "execution_count": 2,
      "outputs": [
        {
          "output_type": "stream",
          "name": "stdout",
          "text": [
            "[1, 2, 3, 4]\n",
            "[1, 3, 4]\n",
            "1\n",
            "[3, 4]\n",
            "[3, 4, 5, 6]\n"
          ]
        }
      ]
    },
    {
      "cell_type": "code",
      "source": [
        "my_tuple = (1, 2, 2, 3, 4, 2)\n",
        "\n",
        "# count() - Count the number of occurrences of a value\n",
        "count_of_2 = my_tuple.count(2)\n",
        "print(count_of_2)  # Output: 3\n",
        "\n",
        "# index() - Find the index of a value\n",
        "index_of_3 = my_tuple.index(3)\n",
        "print(index_of_3)  # Output: 3\n",
        "\n",
        "# len() - Get the length of the tuple\n",
        "length = len(my_tuple)\n",
        "print(length)  # Output: 6\n",
        "\n",
        "# max() - Find the maximum value\n",
        "maximum = max(my_tuple)\n",
        "print(maximum)  # Output: 4\n",
        "\n",
        "# min() - Find the minimum value\n",
        "minimum = min(my_tuple)\n",
        "print(minimum)  # Output: 1"
      ],
      "metadata": {
        "colab": {
          "base_uri": "https://localhost:8080/"
        },
        "id": "Wez5MShi5Lkb",
        "outputId": "43c8a8c9-3cd4-4cb7-dff5-105c71a7ee9c"
      },
      "execution_count": 3,
      "outputs": [
        {
          "output_type": "stream",
          "name": "stdout",
          "text": [
            "3\n",
            "3\n",
            "6\n",
            "4\n",
            "1\n"
          ]
        }
      ]
    },
    {
      "cell_type": "code",
      "source": [
        "my_set1 = {1, 2, 3}\n",
        "my_set2 = {3, 4, 5}\n",
        "\n",
        "# add() - Add an element to the set\n",
        "my_set1.add(4)\n",
        "print(my_set1) # Output: {1, 2, 3, 4}\n",
        "\n",
        "# remove() - Remove an element from the set\n",
        "my_set1.remove(2)\n",
        "print(my_set1) # Output: {1, 3, 4}\n",
        "\n",
        "# union() - Create a new set containing unique elements from two sets\n",
        "union_set = my_set1.union(my_set2)\n",
        "print(union_set) # Output: {1, 3, 4, 5}\n",
        "\n",
        "# intersection() - Create a new set containing common elements\n",
        "intersection_set = my_set1.intersection(my_set2)\n",
        "print(intersection_set) # Output: {3, 4}\n",
        "\n",
        "# difference() - Create a new set with elements in the first set but not the second\n",
        "difference_set = my_set1.difference(my_set2)\n",
        "print(difference_set) # Output: {1}"
      ],
      "metadata": {
        "colab": {
          "base_uri": "https://localhost:8080/"
        },
        "id": "XOdSzzba5Rod",
        "outputId": "f2da49d0-d459-40b6-8a07-75846d091dec"
      },
      "execution_count": 4,
      "outputs": [
        {
          "output_type": "stream",
          "name": "stdout",
          "text": [
            "{1, 2, 3, 4}\n",
            "{1, 3, 4}\n",
            "{1, 3, 4, 5}\n",
            "{3, 4}\n",
            "{1}\n"
          ]
        }
      ]
    },
    {
      "cell_type": "code",
      "source": [
        "my_dict = {\"name\": \"Alice\", \"age\": 30, \"city\": \"New York\"}\n",
        "\n",
        "# keys() - Get a list of keys\n",
        "keys = my_dict.keys()\n",
        "print(keys) # Output: dict_keys(['name', 'age', 'city'])\n",
        "\n",
        "# values() - Get a list of values\n",
        "values = my_dict.values()\n",
        "print(values) # Output: dict_values(['Alice', 30, 'New York'])\n",
        "\n",
        "# items() - Get a list of key-value pairs as tuples\n",
        "items = my_dict.items()\n",
        "print(items) # Output: dict_items([('name', 'Alice'), ('age', 30), ('city', 'New York')])\n",
        "\n",
        "# get() - Get the value associated with a key\n",
        "age = my_dict.get(\"age\")\n",
        "print(age) # Output: 30\n",
        "\n",
        "# pop() - Remove and return the value associated with a key\n",
        "city = my_dict.pop(\"city\")\n",
        "print(city) # Output: 'New York'"
      ],
      "metadata": {
        "colab": {
          "base_uri": "https://localhost:8080/"
        },
        "id": "2qgrOaDX5acT",
        "outputId": "f9118182-6e25-4c86-c8b7-9ba1e3310115"
      },
      "execution_count": 5,
      "outputs": [
        {
          "output_type": "stream",
          "name": "stdout",
          "text": [
            "dict_keys(['name', 'age', 'city'])\n",
            "dict_values(['Alice', 30, 'New York'])\n",
            "dict_items([('name', 'Alice'), ('age', 30), ('city', 'New York')])\n",
            "30\n",
            "New York\n"
          ]
        }
      ]
    },
    {
      "cell_type": "code",
      "source": [
        "string_A =\"Hello\"\n",
        "string_B =\"World\"\n",
        "reversed_string_A = string_A[::-1]\n",
        "result = reversed_string_A + string_B\n",
        "print(result)"
      ],
      "metadata": {
        "colab": {
          "base_uri": "https://localhost:8080/"
        },
        "id": "9TsMjRsI5hlV",
        "outputId": "e3a02082-5496-4bad-d1ab-18bc1895670e"
      },
      "execution_count": 6,
      "outputs": [
        {
          "output_type": "stream",
          "name": "stdout",
          "text": [
            "olleHWorld\n"
          ]
        }
      ]
    },
    {
      "cell_type": "code",
      "source": [
        "work_hours = [('Abby', 100, 'F'), ('Billy', 400, 'M'), ('Cassie', 800, 'F'), ('Maggi', 600, 'F'), ('Alex', 500, 'M'), ('Raj', 225, 'M'), ('Penny', 920, 'F'), ('Ben', 300, 'M')]\n",
        "\n",
        "def find_female_with_most_hours(work_hours):\n",
        "    max_hours = 0\n",
        "    female_with_most_hours = None\n",
        "\n",
        "    for name, hours, gender in work_hours:\n",
        "        if gender == 'F' and hours > max_hours:\n",
        "            max_hours = hours\n",
        "            female_with_most_hours = name\n",
        "\n",
        "    return female_with_most_hours, max_hours\n",
        "\n",
        "# Call the function to find the female worker with the most hours\n",
        "female_worker, max_hours = find_female_with_most_hours(work_hours)\n",
        "\n",
        "# Calculate her payment (assuming $20 per hour)\n",
        "payment = max_hours * 20\n",
        "\n",
        "print(f\"The female worker that worked the most hours is {female_worker} and she should be paid ${payment}\")"
      ],
      "metadata": {
        "colab": {
          "base_uri": "https://localhost:8080/"
        },
        "id": "lFo7Kxd85mFY",
        "outputId": "9c0e62d4-e3da-4fcc-df04-90bf0284b2fc"
      },
      "execution_count": 7,
      "outputs": [
        {
          "output_type": "stream",
          "name": "stdout",
          "text": [
            "The female worker that worked the most hours is Penny and she should be paid $18400\n"
          ]
        }
      ]
    },
    {
      "cell_type": "code",
      "source": [
        "import numpy as np\n",
        "pattern = np.array([[1 ,1] , [2 ,2]])\n",
        "matrix =np.vstack([np.hstack([pattern]*2)]*2 + [np.hstack([pattern]*2)])\n",
        "print(matrix)"
      ],
      "metadata": {
        "colab": {
          "base_uri": "https://localhost:8080/"
        },
        "id": "9Tk5rJuN5s4B",
        "outputId": "eb7d263b-0602-483b-b1d1-1d3e8651f94a"
      },
      "execution_count": 8,
      "outputs": [
        {
          "output_type": "stream",
          "name": "stdout",
          "text": [
            "[[1 1 1 1]\n",
            " [2 2 2 2]\n",
            " [1 1 1 1]\n",
            " [2 2 2 2]\n",
            " [1 1 1 1]\n",
            " [2 2 2 2]]\n"
          ]
        }
      ]
    },
    {
      "cell_type": "code",
      "source": [
        "import numpy as np\n",
        "matrix_5x5 = np.array([[1, 1, 1, 1, 1],\n",
        "                       [2, 2, 2, 2, 2],\n",
        "                       [1, 1, 1, 1, 1],\n",
        "                       [2, 2, 2, 2, 2],\n",
        "                       [1, 1, 1, 1, 1]])\n",
        "matrix_Nx5 = np.array([[1, 2, 3],\n",
        "                       [4, 5, 6],\n",
        "                       [7, 8, 9],\n",
        "                       [10, 11, 12],\n",
        "                       [13, 14, 15]])\n",
        "dot_product = np.dot(matrix_5x5, matrix_Nx5)\n",
        "print(\"Dot Product Matrix:\")\n",
        "print(dot_product)\n",
        "print(\"Shape of Dot Product Matrix:\", dot_product.shape)"
      ],
      "metadata": {
        "colab": {
          "base_uri": "https://localhost:8080/"
        },
        "id": "qkwUCNrF5xOt",
        "outputId": "1f1d0fa2-6e4d-45a3-d1da-c52f8f4053c0"
      },
      "execution_count": 9,
      "outputs": [
        {
          "output_type": "stream",
          "name": "stdout",
          "text": [
            "Dot Product Matrix:\n",
            "[[35 40 45]\n",
            " [70 80 90]\n",
            " [35 40 45]\n",
            " [70 80 90]\n",
            " [35 40 45]]\n",
            "Shape of Dot Product Matrix: (5, 3)\n"
          ]
        }
      ]
    }
  ]
}